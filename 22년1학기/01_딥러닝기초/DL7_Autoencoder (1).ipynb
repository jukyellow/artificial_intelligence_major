{
  "cells": [
    {
      "cell_type": "code",
      "execution_count": null,
      "metadata": {
        "colab": {
          "base_uri": "https://localhost:8080/"
        },
        "id": "th5B9llDJwq8",
        "outputId": "b6b4d0b9-e986-47b2-d5fc-467d25bda596"
      },
      "outputs": [
        {
          "name": "stdout",
          "output_type": "stream",
          "text": [
            "Downloading data from https://storage.googleapis.com/tensorflow/tf-keras-datasets/mnist.npz\n",
            "11493376/11490434 [==============================] - 0s 0us/step\n",
            "11501568/11490434 [==============================] - 0s 0us/step\n"
          ]
        }
      ],
      "source": [
        "from tensorflow.keras.datasets import mnist\n",
        "(x_train, y_train), (x_test, y_test) = mnist.load_data()\n"
      ]
    },
    {
      "cell_type": "code",
      "execution_count": null,
      "metadata": {
        "id": "b1SupjsfKBIk"
      },
      "outputs": [],
      "source": [
        "x_train = x_train / 255.0\n",
        "x_test = x_test / 255.0"
      ]
    },
    {
      "cell_type": "code",
      "execution_count": null,
      "metadata": {
        "colab": {
          "base_uri": "https://localhost:8080/"
        },
        "id": "_1MmGN0NKBCK",
        "outputId": "ecbbcaa7-01ce-4205-d1a5-1f0386c643c9"
      },
      "outputs": [
        {
          "name": "stdout",
          "output_type": "stream",
          "text": [
            "Model: \"sequential\"\n",
            "_________________________________________________________________\n",
            " Layer (type)                Output Shape              Param #   \n",
            "=================================================================\n",
            " flatten (Flatten)           (None, 784)               0         \n",
            "                                                                 \n",
            " dense (Dense)               (None, 128)               100480    \n",
            "                                                                 \n",
            " dense_1 (Dense)             (None, 16)                2064      \n",
            "                                                                 \n",
            " dense_2 (Dense)             (None, 2)                 34        \n",
            "                                                                 \n",
            "=================================================================\n",
            "Total params: 102,578\n",
            "Trainable params: 102,578\n",
            "Non-trainable params: 0\n",
            "_________________________________________________________________\n",
            "Model: \"sequential_1\"\n",
            "_________________________________________________________________\n",
            " Layer (type)                Output Shape              Param #   \n",
            "=================================================================\n",
            " dense_3 (Dense)             (None, 16)                48        \n",
            "                                                                 \n",
            " dense_4 (Dense)             (None, 128)               2176      \n",
            "                                                                 \n",
            " dense_5 (Dense)             (None, 784)               101136    \n",
            "                                                                 \n",
            " reshape (Reshape)           (None, 28, 28)            0         \n",
            "                                                                 \n",
            "=================================================================\n",
            "Total params: 103,360\n",
            "Trainable params: 103,360\n",
            "Non-trainable params: 0\n",
            "_________________________________________________________________\n",
            "Model: \"sequential_2\"\n",
            "_________________________________________________________________\n",
            " Layer (type)                Output Shape              Param #   \n",
            "=================================================================\n",
            " sequential (Sequential)     (None, 2)                 102578    \n",
            "                                                                 \n",
            " sequential_1 (Sequential)   (None, 28, 28)            103360    \n",
            "                                                                 \n",
            "=================================================================\n",
            "Total params: 205,938\n",
            "Trainable params: 205,938\n",
            "Non-trainable params: 0\n",
            "_________________________________________________________________\n"
          ]
        }
      ],
      "source": [
        "from tensorflow.keras.models import Sequential\n",
        "from tensorflow.keras.layers import Dense, Flatten, Reshape\n",
        "\n",
        "encoder = Sequential([\n",
        "                      Flatten(input_shape=(28,28)),\n",
        "                      Dense(128, activation='relu'),\n",
        "                      Dense(16, activation='relu'),\n",
        "                      Dense(2, activation='relu')\n",
        "])\n",
        "\n",
        "decoder = Sequential([\n",
        "                      Dense(16, activation='relu', input_dim = 2),\n",
        "                      Dense(128, activation='relu'),\n",
        "                      Dense(784, activation='relu'),\n",
        "                      Reshape((28, 28))\n",
        "])\n",
        "\n",
        "model = Sequential([encoder, decoder])\n",
        "\n",
        "encoder.summary()\n",
        "decoder.summary()\n",
        "model.summary()\n"
      ]
    },
    {
      "cell_type": "code",
      "execution_count": null,
      "metadata": {
        "id": "UJJNXSL7KA5H"
      },
      "outputs": [],
      "source": [
        "model.compile(loss='mse', optimizer='adam', metrics=[\"accuracy\"])"
      ]
    },
    {
      "cell_type": "code",
      "execution_count": null,
      "metadata": {
        "colab": {
          "background_save": true,
          "base_uri": "https://localhost:8080/"
        },
        "id": "lYzpxGPIKA19",
        "outputId": "88ecdd6a-5b9b-4748-d019-9a4e12280055"
      },
      "outputs": [
        {
          "name": "stdout",
          "output_type": "stream",
          "text": [
            "Epoch 1/30\n",
            "1875/1875 [==============================] - 12s 6ms/step - loss: 0.0666 - accuracy: 0.2897 - val_loss: 0.0563 - val_accuracy: 0.3300\n",
            "Epoch 2/30\n",
            "1875/1875 [==============================] - 10s 6ms/step - loss: 0.0544 - accuracy: 0.3492 - val_loss: 0.0525 - val_accuracy: 0.3509\n",
            "Epoch 3/30\n",
            "1875/1875 [==============================] - 9s 5ms/step - loss: 0.0518 - accuracy: 0.3704 - val_loss: 0.0510 - val_accuracy: 0.3727\n",
            "Epoch 4/30\n",
            "1875/1875 [==============================] - 10s 6ms/step - loss: 0.0499 - accuracy: 0.3830 - val_loss: 0.0496 - val_accuracy: 0.3853\n",
            "Epoch 5/30\n",
            "1875/1875 [==============================] - 10s 6ms/step - loss: 0.0486 - accuracy: 0.3936 - val_loss: 0.0484 - val_accuracy: 0.3940\n",
            "Epoch 6/30\n",
            "1875/1875 [==============================] - 10s 5ms/step - loss: 0.0473 - accuracy: 0.4001 - val_loss: 0.0468 - val_accuracy: 0.3997\n",
            "Epoch 7/30\n",
            "1875/1875 [==============================] - 10s 5ms/step - loss: 0.0466 - accuracy: 0.4022 - val_loss: 0.0462 - val_accuracy: 0.4017\n",
            "Epoch 8/30\n",
            "1875/1875 [==============================] - 10s 5ms/step - loss: 0.0458 - accuracy: 0.4063 - val_loss: 0.0457 - val_accuracy: 0.4058\n",
            "Epoch 9/30\n",
            "1875/1875 [==============================] - 9s 5ms/step - loss: 0.0450 - accuracy: 0.4098 - val_loss: 0.0443 - val_accuracy: 0.4116\n",
            "Epoch 10/30\n",
            "1875/1875 [==============================] - 9s 5ms/step - loss: 0.0442 - accuracy: 0.4127 - val_loss: 0.0440 - val_accuracy: 0.4113\n",
            "Epoch 11/30\n",
            "1875/1875 [==============================] - 9s 5ms/step - loss: 0.0437 - accuracy: 0.4147 - val_loss: 0.0437 - val_accuracy: 0.4119\n",
            "Epoch 12/30\n",
            "1875/1875 [==============================] - 10s 5ms/step - loss: 0.0433 - accuracy: 0.4164 - val_loss: 0.0431 - val_accuracy: 0.4173\n",
            "Epoch 13/30\n",
            "1875/1875 [==============================] - 10s 5ms/step - loss: 0.0428 - accuracy: 0.4174 - val_loss: 0.0425 - val_accuracy: 0.4159\n",
            "Epoch 14/30\n",
            "1875/1875 [==============================] - 10s 5ms/step - loss: 0.0425 - accuracy: 0.4176 - val_loss: 0.0427 - val_accuracy: 0.4163\n",
            "Epoch 15/30\n",
            "1875/1875 [==============================] - 10s 6ms/step - loss: 0.0424 - accuracy: 0.4186 - val_loss: 0.0422 - val_accuracy: 0.4223\n",
            "Epoch 16/30\n",
            "1875/1875 [==============================] - 10s 6ms/step - loss: 0.0422 - accuracy: 0.4199 - val_loss: 0.0421 - val_accuracy: 0.4164\n",
            "Epoch 17/30\n",
            "1875/1875 [==============================] - 10s 5ms/step - loss: 0.0420 - accuracy: 0.4206 - val_loss: 0.0422 - val_accuracy: 0.4161\n",
            "Epoch 18/30\n",
            "1875/1875 [==============================] - 10s 5ms/step - loss: 0.0419 - accuracy: 0.4210 - val_loss: 0.0418 - val_accuracy: 0.4210\n",
            "Epoch 19/30\n",
            "1875/1875 [==============================] - 10s 5ms/step - loss: 0.0419 - accuracy: 0.4214 - val_loss: 0.0424 - val_accuracy: 0.4152\n",
            "Epoch 20/30\n",
            "1875/1875 [==============================] - 9s 5ms/step - loss: 0.0416 - accuracy: 0.4213 - val_loss: 0.0417 - val_accuracy: 0.4221\n",
            "Epoch 21/30\n",
            "1875/1875 [==============================] - 10s 5ms/step - loss: 0.0413 - accuracy: 0.4234 - val_loss: 0.0416 - val_accuracy: 0.4199\n",
            "Epoch 22/30\n",
            "1875/1875 [==============================] - 10s 5ms/step - loss: 0.0413 - accuracy: 0.4235 - val_loss: 0.0415 - val_accuracy: 0.4231\n",
            "Epoch 23/30\n",
            "1875/1875 [==============================] - 10s 5ms/step - loss: 0.0412 - accuracy: 0.4242 - val_loss: 0.0411 - val_accuracy: 0.4246\n",
            "Epoch 24/30\n",
            "1875/1875 [==============================] - 10s 5ms/step - loss: 0.0411 - accuracy: 0.4245 - val_loss: 0.0414 - val_accuracy: 0.4210\n",
            "Epoch 25/30\n",
            "1875/1875 [==============================] - 10s 5ms/step - loss: 0.0411 - accuracy: 0.4243 - val_loss: 0.0412 - val_accuracy: 0.4202\n",
            "Epoch 26/30\n",
            "1875/1875 [==============================] - 10s 6ms/step - loss: 0.0409 - accuracy: 0.4253 - val_loss: 0.0412 - val_accuracy: 0.4185\n",
            "Epoch 27/30\n",
            "1875/1875 [==============================] - 10s 5ms/step - loss: 0.0409 - accuracy: 0.4255 - val_loss: 0.0409 - val_accuracy: 0.4223\n",
            "Epoch 28/30\n",
            "1875/1875 [==============================] - 10s 5ms/step - loss: 0.0407 - accuracy: 0.4260 - val_loss: 0.0410 - val_accuracy: 0.4205\n",
            "Epoch 29/30\n",
            "1875/1875 [==============================] - 10s 5ms/step - loss: 0.0406 - accuracy: 0.4270 - val_loss: 0.0407 - val_accuracy: 0.4258\n",
            "Epoch 30/30\n",
            "1875/1875 [==============================] - 10s 5ms/step - loss: 0.0405 - accuracy: 0.4273 - val_loss: 0.0406 - val_accuracy: 0.4232\n"
          ]
        },
        {
          "data": {
            "text/plain": [
              "<keras.callbacks.History at 0x7f186539a1d0>"
            ]
          },
          "execution_count": null,
          "metadata": {},
          "output_type": "execute_result"
        }
      ],
      "source": [
        "model.fit(x_train, x_train, epochs=30, batch_size=32, validation_data=(x_test, x_test))"
      ]
    },
    {
      "cell_type": "code",
      "execution_count": 6,
      "metadata": {
        "id": "v8xRuu4-KAyu",
        "colab": {
          "base_uri": "https://localhost:8080/",
          "height": 1000
        },
        "outputId": "f098ee71-4601-46a4-b25a-8495b6c59757"
      },
      "outputs": [
        {
          "output_type": "display_data",
          "data": {
            "text/plain": [
              "<Figure size 432x288 with 1 Axes>"
            ],
            "image/png": "[encoded data removed]"
          },
          "metadata": {
            "needs_background": "light"
          }
        },
        {
          "output_type": "display_data",
          "data": {
            "text/plain": [
              "<Figure size 432x288 with 1 Axes>"
            ],
            "image/png": "[encoded data removed]"
          },
          "metadata": {
            "needs_background": "light"
          }
        },
        {
          "output_type": "display_data",
          "data": {
            "text/plain": [
              "<Figure size 432x288 with 1 Axes>"
            ],
            "image/png": "[encoded data removed]"
          },
          "metadata": {
            "needs_background": "light"
          }
        },
        {
          "output_type": "display_data",
          "data": {
            "text/plain": [
              "<Figure size 432x288 with 1 Axes>"
            ],
            "image/png": "[encoded data removed]"
          },
          "metadata": {
            "needs_background": "light"
          }
        },
        {
          "output_type": "display_data",
          "data": {
            "text/plain": [
              "<Figure size 432x288 with 1 Axes>"
            ],
            "image/png": "[encoded data removed]"
          },
          "metadata": {
            "needs_background": "light"
          }
        },
        {
          "output_type": "display_data",
          "data": {
            "text/plain": [
              "<Figure size 432x288 with 1 Axes>"
            ],
            "image/png": "[encoded data removed]"
          },
          "metadata": {
            "needs_background": "light"
          }
        }
      ],
      "source": [
        "test_imgs = model.predict(x_test[:3])\n",
        "\n",
        "import matplotlib.pyplot as plt\n",
        "for i, img in enumerate(test_imgs):\n",
        "  plt.figure()\n",
        "  plt.imshow(x_test[i])\n",
        "  plt.show()\n",
        "  plt.imshow(img)\n",
        "  plt.show()\n",
        "\n",
        "\n"
      ]
    },
    {
      "cell_type": "code",
      "execution_count": 7,
      "metadata": {
        "id": "GJiOn2TsKAv2",
        "colab": {
          "base_uri": "https://localhost:8080/"
        },
        "outputId": "c91019e8-0622-40bd-e720-dac658a0bb65"
      },
      "outputs": [
        {
          "output_type": "stream",
          "name": "stdout",
          "text": [
            "[[ 9.548852 15.993979]]\n"
          ]
        }
      ],
      "source": [
        "import numpy as np\n",
        "encoded_img = encoder.predict(np.expand_dims(x_test[0], axis=0))\n",
        "\n",
        "print(encoded_img)"
      ]
    },
    {
      "cell_type": "code",
      "execution_count": 18,
      "metadata": {
        "id": "xQ2uVXDLKAs4",
        "colab": {
          "base_uri": "https://localhost:8080/",
          "height": 265
        },
        "outputId": "78b490fd-2f4b-46f2-cdb6-39fcf04ee9ec"
      },
      "outputs": [
        {
          "output_type": "display_data",
          "data": {
            "text/plain": [
              "<Figure size 432x288 with 1 Axes>"
            ],
            "image/png": "[encoded data removed]"
          },
          "metadata": {
            "needs_background": "light"
          }
        }
      ],
      "source": [
        "encoded_img = [[5.2, 7.2]]\n",
        "decoded_img = decoder.predict(encoded_img)\n",
        "\n",
        "plt.figure()\n",
        "plt.imshow(decoded_img[0])\n",
        "plt.show()"
      ]
    },
    {
      "cell_type": "code",
      "execution_count": null,
      "metadata": {
        "id": "uUit6q0gKApm"
      },
      "outputs": [],
      "source": [
        ""
      ]
    }
  ],
  "metadata": {
    "accelerator": "GPU",
    "colab": {
      "name": "DL7_Autoencoder.ipynb",
      "provenance": [],
      "collapsed_sections": []
    },
    "kernelspec": {
      "display_name": "Python 3",
      "name": "python3"
    },
    "language_info": {
      "name": "python"
    }
  },
  "nbformat": 4,
  "nbformat_minor": 0
}