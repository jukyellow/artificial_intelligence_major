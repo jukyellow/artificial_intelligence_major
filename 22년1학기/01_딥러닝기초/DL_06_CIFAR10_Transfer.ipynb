{
  "nbformat": 4,
  "nbformat_minor": 0,
  "metadata": {
    "colab": {
      "name": "DL_06_CIFAR10_Transfer.ipynb",
      "provenance": [],
      "collapsed_sections": []
    },
    "kernelspec": {
      "name": "python3",
      "display_name": "Python 3"
    },
    "language_info": {
      "name": "python"
    },
    "accelerator": "GPU"
  },
  "cells": [
    {
      "cell_type": "code",
      "source": [
        "# CIFAR-10 데이터 로드\n",
        "# x_train: 학습용 이미지,  y_train: 학습용 이미지 레이블,  x_test: 테스트용 이미지, y_test:테스트용 이미지 레이블\n",
        "\n",
        "from tensorflow.keras.datasets import cifar10 # cifar10 데이터 라이브러리\n",
        "\n",
        "(x_train, y_train), (x_test, y_test) = cifar10.load_data()\n",
        "\n",
        "labels = ['비행기', '자동차', '새', '고양이', '사슴', '개', '개구리', '말', '배', '트럭']"
      ],
      "metadata": {
        "id": "qxNDpNusyIka"
      },
      "execution_count": null,
      "outputs": []
    },
    {
      "cell_type": "code",
      "source": [
        "print(x_train.shape)\n",
        "print(x_test.shape)\n",
        "print(y_train.shape)  # (50000, 1)\n",
        "print(y_test.shape)"
      ],
      "metadata": {
        "colab": {
          "base_uri": "https://localhost:8080/"
        },
        "id": "Spto_z4F474o",
        "outputId": "3078c14b-5cdd-4b65-e6a8-539d2b58840d"
      },
      "execution_count": null,
      "outputs": [
        {
          "output_type": "stream",
          "name": "stdout",
          "text": [
            "(50000, 32, 32, 3)\n",
            "(10000, 32, 32, 3)\n",
            "(50000, 1)\n",
            "(10000, 1)\n"
          ]
        }
      ]
    },
    {
      "cell_type": "code",
      "source": [
        "print(y_train[0])\n",
        "print(y_train[0][0])\n",
        "print(labels[y_train[0][0]])"
      ],
      "metadata": {
        "colab": {
          "base_uri": "https://localhost:8080/"
        },
        "id": "MwvQpVRAtV5d",
        "outputId": "3e9c308a-ce3d-48a9-eeef-aed8ea260277"
      },
      "execution_count": null,
      "outputs": [
        {
          "output_type": "stream",
          "name": "stdout",
          "text": [
            "[6]\n",
            "6\n",
            "개구리\n"
          ]
        }
      ]
    },
    {
      "cell_type": "code",
      "source": [
        "import matplotlib.pyplot as plt\n",
        "\n",
        "plt.figure()\n",
        "plt.imshow(x_train[0])\n",
        "plt.show()"
      ],
      "metadata": {
        "colab": {
          "base_uri": "https://localhost:8080/",
          "height": 266
        },
        "id": "kksj96VW471n",
        "outputId": "e5162baa-f4ed-4ed9-b80f-7a5e50017135"
      },
      "execution_count": null,
      "outputs": [
        {
          "output_type": "display_data",
          "data": {
            "text/plain": [
              "<Figure size 432x288 with 1 Axes>"
            ],
            "image/png": "[encoded data removed]"
          },
          "metadata": {
            "needs_background": "light"
          }
        }
      ]
    },
    {
      "cell_type": "code",
      "source": [
        "# 픽셀 값 (0~255) -> (0~1)\n",
        "x_train = x_train / 255.0\n",
        "x_test = x_test / 255.0"
      ],
      "metadata": {
        "id": "JIHUHBv747yj"
      },
      "execution_count": null,
      "outputs": []
    },
    {
      "cell_type": "code",
      "source": [
        "num_classes = 10\n",
        "\n",
        "from tensorflow.keras.utils import to_categorical\n",
        "\n",
        "y_train = to_categorical(y_train, num_classes)\n",
        "y_test = to_categorical(y_test, num_classes)\n",
        "\n",
        "print(y_train[0])"
      ],
      "metadata": {
        "colab": {
          "base_uri": "https://localhost:8080/"
        },
        "id": "jTxUN6lT47vX",
        "outputId": "fafe1d6b-dad0-4271-a10a-833e4e5c1928"
      },
      "execution_count": null,
      "outputs": [
        {
          "output_type": "stream",
          "name": "stdout",
          "text": [
            "[0. 0. 0. 0. 0. 0. 1. 0. 0. 0.]\n"
          ]
        }
      ]
    },
    {
      "cell_type": "code",
      "source": [
        "from tensorflow.keras.models import Sequential\n",
        "from tensorflow.keras.layers import Dense, Flatten, Input, Conv2D, MaxPool2D, Dropout, RandomFlip, RandomRotation, Resizing, GlobalAveragePooling2D\n",
        "from tensorflow.keras.applications import ResNet50V2\n",
        "\n",
        "model = Sequential([\n",
        "                    Input((32, 32, 3)),\n",
        "                    Resizing(96, 96),\n",
        "                    RandomFlip(\"horizontal\"),\n",
        "                    RandomRotation(0.1),                    \n",
        "                    ResNet50V2(include_top=False, weights=\"imagenet\", input_shape=(96, 96, 3)),\n",
        "                    GlobalAveragePooling2D(),\n",
        "                    Dense(128, activation='relu'),\n",
        "                    Dense(num_classes, activation='softmax')\n",
        "])\n"
      ],
      "metadata": {
        "id": "up5uf5Pk47sK"
      },
      "execution_count": null,
      "outputs": []
    },
    {
      "cell_type": "code",
      "source": [
        "model.summary()"
      ],
      "metadata": {
        "colab": {
          "base_uri": "https://localhost:8080/"
        },
        "id": "RWGz0dZq47pD",
        "outputId": "e27af494-a5f2-4c31-9c80-7849975c650d"
      },
      "execution_count": null,
      "outputs": [
        {
          "output_type": "stream",
          "name": "stdout",
          "text": [
            "Model: \"sequential_1\"\n",
            "_________________________________________________________________\n",
            " Layer (type)                Output Shape              Param #   \n",
            "=================================================================\n",
            " resizing_1 (Resizing)       (None, 96, 96, 3)         0         \n",
            "                                                                 \n",
            " random_flip_1 (RandomFlip)  (None, 96, 96, 3)         0         \n",
            "                                                                 \n",
            " random_rotation_1 (RandomRo  (None, 96, 96, 3)        0         \n",
            " tation)                                                         \n",
            "                                                                 \n",
            " resnet50v2 (Functional)     (None, 3, 3, 2048)        23564800  \n",
            "                                                                 \n",
            " global_average_pooling2d_1   (None, 2048)             0         \n",
            " (GlobalAveragePooling2D)                                        \n",
            "                                                                 \n",
            " dense_2 (Dense)             (None, 128)               262272    \n",
            "                                                                 \n",
            " dense_3 (Dense)             (None, 10)                1290      \n",
            "                                                                 \n",
            "=================================================================\n",
            "Total params: 23,828,362\n",
            "Trainable params: 23,782,922\n",
            "Non-trainable params: 45,440\n",
            "_________________________________________________________________\n"
          ]
        }
      ]
    },
    {
      "cell_type": "code",
      "source": [
        "model.compile(loss='categorical_crossentropy', optimizer='adam', metrics=['accuracy'])"
      ],
      "metadata": {
        "id": "tELB0Xma47l3"
      },
      "execution_count": null,
      "outputs": []
    },
    {
      "cell_type": "code",
      "source": [
        "history = model.fit(x_train, y_train, batch_size=32, epochs=10, validation_data=(x_test, y_test))"
      ],
      "metadata": {
        "colab": {
          "base_uri": "https://localhost:8080/"
        },
        "id": "OSLenx245OOY",
        "outputId": "06d30260-6cd4-4b65-e43f-b85ea600f7d3"
      },
      "execution_count": null,
      "outputs": [
        {
          "output_type": "stream",
          "name": "stdout",
          "text": [
            "Epoch 1/10\n",
            "1563/1563 [==============================] - 313s 194ms/step - loss: 1.1044 - accuracy: 0.6177 - val_loss: 1.3546 - val_accuracy: 0.5718\n",
            "Epoch 2/10\n",
            "1563/1563 [==============================] - 306s 196ms/step - loss: 0.7789 - accuracy: 0.7319 - val_loss: 1.4023 - val_accuracy: 0.5592\n",
            "Epoch 3/10\n",
            "1563/1563 [==============================] - 302s 193ms/step - loss: 0.6689 - accuracy: 0.7714 - val_loss: 0.7524 - val_accuracy: 0.7438\n",
            "Epoch 4/10\n",
            "1563/1563 [==============================] - 305s 195ms/step - loss: 0.5931 - accuracy: 0.7972 - val_loss: 0.6036 - val_accuracy: 0.7950\n",
            "Epoch 5/10\n",
            "1563/1563 [==============================] - 300s 192ms/step - loss: 0.5376 - accuracy: 0.8155 - val_loss: 1.4209 - val_accuracy: 0.5384\n",
            "Epoch 6/10\n",
            "1563/1563 [==============================] - 302s 193ms/step - loss: 0.4923 - accuracy: 0.8312 - val_loss: 1.0607 - val_accuracy: 0.6607\n",
            "Epoch 7/10\n",
            "1563/1563 [==============================] - 301s 193ms/step - loss: 0.4510 - accuracy: 0.8455 - val_loss: 0.7857 - val_accuracy: 0.7511\n",
            "Epoch 8/10\n",
            "1563/1563 [==============================] - 301s 192ms/step - loss: 0.4174 - accuracy: 0.8570 - val_loss: 0.8256 - val_accuracy: 0.7336\n",
            "Epoch 9/10\n",
            "1563/1563 [==============================] - 301s 193ms/step - loss: 0.3917 - accuracy: 0.8657 - val_loss: 0.4967 - val_accuracy: 0.8334\n",
            "Epoch 10/10\n",
            "1563/1563 [==============================] - 306s 196ms/step - loss: 0.3637 - accuracy: 0.8752 - val_loss: 0.4318 - val_accuracy: 0.8572\n"
          ]
        }
      ]
    },
    {
      "cell_type": "code",
      "source": [
        "# 테스트 이미지\n",
        "test_imgs = x_test[:4]"
      ],
      "metadata": {
        "id": "OmThhxcQ5OK6"
      },
      "execution_count": null,
      "outputs": []
    },
    {
      "cell_type": "code",
      "source": [
        "# 모델 테스트\n",
        "pred_num = model.predict(test_imgs)"
      ],
      "metadata": {
        "id": "0C3R8xkn5OG7"
      },
      "execution_count": null,
      "outputs": []
    },
    {
      "cell_type": "code",
      "source": [
        "# 확인\n",
        "for i, img in enumerate(test_imgs):\n",
        "    plt.figure()\n",
        "    plt.imshow(img)\n",
        "    plt.show()\n",
        "    print(pred_num[i])\n",
        "    class_num = pred_num[i].argmax()\n",
        "    print(labels[class_num])"
      ],
      "metadata": {
        "id": "XCSgzyPV5T1W",
        "colab": {
          "base_uri": "https://localhost:8080/",
          "height": 1000
        },
        "outputId": "dea4845e-82f1-4154-bd55-f11407498044"
      },
      "execution_count": null,
      "outputs": [
        {
          "output_type": "display_data",
          "data": {
            "text/plain": [
              "<Figure size 432x288 with 1 Axes>"
            ],
            "image/png": "[encoded data removed]"
          },
          "metadata": {
            "needs_background": "light"
          }
        },
        {
          "output_type": "stream",
          "name": "stdout",
          "text": [
            "[3.0127438e-05 5.2685130e-07 1.1360889e-03 9.3831444e-01 1.6014697e-05\n",
            " 6.0425647e-02 1.3994869e-05 4.9971986e-05 1.2000233e-05 1.2456585e-06]\n",
            "고양이\n"
          ]
        },
        {
          "output_type": "display_data",
          "data": {
            "text/plain": [
              "<Figure size 432x288 with 1 Axes>"
            ],
            "image/png": "[encoded data removed]"
          },
          "metadata": {
            "needs_background": "light"
          }
        },
        {
          "output_type": "stream",
          "name": "stdout",
          "text": [
            "[1.9379854e-03 1.8927021e-03 5.7590091e-06 1.9928909e-06 4.0749139e-08\n",
            " 5.4468501e-08 3.0074370e-06 1.2712090e-07 9.9602145e-01 1.3685213e-04]\n",
            "배\n"
          ]
        },
        {
          "output_type": "display_data",
          "data": {
            "text/plain": [
              "<Figure size 432x288 with 1 Axes>"
            ],
            "image/png": "[encoded data removed]"
          },
          "metadata": {
            "needs_background": "light"
          }
        },
        {
          "output_type": "stream",
          "name": "stdout",
          "text": [
            "[1.0800203e-01 1.9577979e-03 5.0069073e-05 1.5184592e-04 2.7287895e-05\n",
            " 1.2955157e-05 6.1478827e-06 1.1115712e-05 8.6549491e-01 2.4285816e-02]\n",
            "배\n"
          ]
        },
        {
          "output_type": "display_data",
          "data": {
            "text/plain": [
              "<Figure size 432x288 with 1 Axes>"
            ],
            "image/png": "[encoded data removed]"
          },
          "metadata": {
            "needs_background": "light"
          }
        },
        {
          "output_type": "stream",
          "name": "stdout",
          "text": [
            "[9.9222988e-01 7.4622651e-05 1.9557597e-03 6.2168110e-04 1.1998489e-05\n",
            " 3.3503042e-05 5.1237066e-06 3.1617474e-05 4.6604793e-03 3.7539774e-04]\n",
            "비행기\n"
          ]
        }
      ]
    }
  ]
}