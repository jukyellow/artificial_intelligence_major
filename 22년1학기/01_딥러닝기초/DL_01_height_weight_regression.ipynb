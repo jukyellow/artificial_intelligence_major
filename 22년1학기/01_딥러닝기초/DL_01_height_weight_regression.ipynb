{
  "nbformat": 4,
  "nbformat_minor": 0,
  "metadata": {
    "colab": {
      "name": "DL_01_height_weight_regression.ipynb",
      "provenance": []
    },
    "kernelspec": {
      "name": "python3",
      "display_name": "Python 3"
    },
    "language_info": {
      "name": "python"
    }
  },
  "cells": [
    {
      "cell_type": "code",
      "execution_count": null,
      "metadata": {
        "id": "C2e38r9Pndb7"
      },
      "outputs": [],
      "source": [
        "# 수강생의 키-몸무게 데이터\n",
        "height = [1.81, 1.83, 1.75, 1.77, 1.78, 1.71, 1.83, 1.88, 1.72, 1.85, 1.68, 1.81, 1.78, 1.77, 1.78]\n",
        "weight = [1.01, 0.78, 0.72, 0.67, 0.81, 0.73, 0.9, 0.92, 0.7, 0.86, 0.84, 1.05, 0.72, 0.95, 0.78]"
      ]
    },
    {
      "cell_type": "code",
      "source": [
        "import matplotlib.pyplot as plt  # 그래프 라이브러리\n",
        "\n",
        "plt.plot(height, weight, 'o')\n",
        "plt.xlabel('height')\n",
        "plt.ylabel('weight')\n",
        "plt.show()"
      ],
      "metadata": {
        "id": "U3pahqd6pQ-1"
      },
      "execution_count": null,
      "outputs": []
    },
    {
      "cell_type": "code",
      "source": [
        "import tensorflow as tf\n",
        "\n",
        "# perceptron 모델링\n",
        "model = tf.keras.models.Sequential([\n",
        "                                    tf.keras.layers.Input(1),   # 입력층\n",
        "                                    tf.keras.layers.Dense(1)    # 출력층\n",
        "])"
      ],
      "metadata": {
        "id": "2_BNs723pU5x"
      },
      "execution_count": null,
      "outputs": []
    },
    {
      "cell_type": "code",
      "source": [
        "# 모델 학습 방법\n",
        "model.compile(optimizer=tf.keras.optimizers.SGD(learning_rate=0.1), loss='mse')"
      ],
      "metadata": {
        "id": "Iu7UXuScpUxU"
      },
      "execution_count": null,
      "outputs": []
    },
    {
      "cell_type": "code",
      "source": [
        "import numpy as np\n",
        "\n",
        "line_x = np.arange(min(height), max(height), 0.01) # 170, 170.01 170.02 170.03, .....\n",
        "line_y = model.predict(line_x)  # model.predict = 결과값 추론\n",
        "\n",
        "plt.plot(line_x, line_y)\n",
        "plt.plot(height, weight, 'o')\n",
        "plt.xlabel('height')\n",
        "plt.ylabel('weight')\n",
        "plt.show()\n"
      ],
      "metadata": {
        "id": "ojryEJf_pUje"
      },
      "execution_count": null,
      "outputs": []
    },
    {
      "cell_type": "code",
      "source": [
        "# 임의의 값으로 초기화된 weight, bias 값 확인\n",
        "weights = model.layers[0].get_weights()[0]\n",
        "biases = model.layers[0].get_weights()[1]\n",
        "print(weights)\n",
        "print(biases)"
      ],
      "metadata": {
        "id": "g8oveHyLpUfy"
      },
      "execution_count": null,
      "outputs": []
    },
    {
      "cell_type": "code",
      "source": [
        "# 모델 학습\n",
        "model.fit(height, weight, epochs=10)  # model.fit(입력값, 출력값, epochs = 학습 반복 횟수)"
      ],
      "metadata": {
        "id": "GbPXvAWCpUct"
      },
      "execution_count": null,
      "outputs": []
    },
    {
      "cell_type": "code",
      "source": [
        "model.predict([1.85])"
      ],
      "metadata": {
        "id": "rf0Ik1NxpUZl"
      },
      "execution_count": null,
      "outputs": []
    },
    {
      "cell_type": "code",
      "source": [
        "import numpy as np\n",
        "\n",
        "line_x = np.arange(min(height), max(height), 0.01) # 170, 170.01 170.02 170.03, .....\n",
        "line_y = model.predict(line_x)\n",
        "\n",
        "plt.plot(line_x, line_y)\n",
        "plt.plot(height, weight, 'o')\n",
        "plt.xlabel('height')\n",
        "plt.ylabel('weight')\n",
        "plt.show()"
      ],
      "metadata": {
        "id": "rqQWaFYCpQ6_"
      },
      "execution_count": null,
      "outputs": []
    }
  ]
}