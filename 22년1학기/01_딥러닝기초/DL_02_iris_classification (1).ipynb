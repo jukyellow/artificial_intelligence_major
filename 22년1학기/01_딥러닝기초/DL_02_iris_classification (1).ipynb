{
  "nbformat": 4,
  "nbformat_minor": 0,
  "metadata": {
    "colab": {
      "name": "DL_02_iris_classification.ipynb",
      "provenance": []
    },
    "kernelspec": {
      "name": "python3",
      "display_name": "Python 3"
    },
    "language_info": {
      "name": "python"
    }
  },
  "cells": [
    {
      "cell_type": "code",
      "execution_count": 26,
      "metadata": {
        "id": "yl9YpI3UuHus"
      },
      "outputs": [],
      "source": [
        "# 붓꽃(iris) 데이터셋 불러오기\n",
        "\n",
        "from sklearn.datasets import load_iris\n",
        "iris = load_iris()"
      ]
    },
    {
      "cell_type": "code",
      "source": [
        "X = iris.data # 4개의 입력 값 (sepal/petal length,width)\n",
        "Y = iris.target  # 붓꽃 종\n",
        "\n",
        "type(X)"
      ],
      "metadata": {
        "id": "uOjgk7jLuwUd"
      },
      "execution_count": null,
      "outputs": []
    },
    {
      "cell_type": "code",
      "source": [
        "import numpy as np\n",
        "\n",
        "np.shape(X)"
      ],
      "metadata": {
        "id": "i6x9m4PnuwR5"
      },
      "execution_count": null,
      "outputs": []
    },
    {
      "cell_type": "code",
      "source": [
        "X[:5]"
      ],
      "metadata": {
        "id": "dPJgWPYluwOl"
      },
      "execution_count": null,
      "outputs": []
    },
    {
      "cell_type": "code",
      "source": [
        "Y"
      ],
      "metadata": {
        "id": "Zbf4e36juwLW"
      },
      "execution_count": null,
      "outputs": []
    },
    {
      "cell_type": "code",
      "source": [
        "# One-hot Encoding 원핫인코딩\n",
        "import tensorflow as tf\n",
        "\n",
        "Y = tf.keras.utils.to_categorical(Y)\n",
        "Y[-5:]"
      ],
      "metadata": {
        "id": "K28neEquuwH1"
      },
      "execution_count": null,
      "outputs": []
    },
    {
      "cell_type": "code",
      "source": [
        "from sklearn.model_selection import train_test_split\n",
        "\n",
        "# X(숫자 4개의 입력값), Y(원핫인코딩된 클래스 정보) --> train_X , test_X , train_Y , test_Y  4(train):1(test)\n",
        "train_X, test_X, train_Y, test_Y = train_test_split(X, Y, test_size=0.2)"
      ],
      "metadata": {
        "id": "Ql2m5ZIquwEb"
      },
      "execution_count": 32,
      "outputs": []
    },
    {
      "cell_type": "code",
      "source": [
        "np.shape(train_X)"
      ],
      "metadata": {
        "id": "sL7w5TPpuwBV"
      },
      "execution_count": null,
      "outputs": []
    },
    {
      "cell_type": "code",
      "source": [
        "np.shape(train_Y)"
      ],
      "metadata": {
        "id": "ihRH5TxBzqbE"
      },
      "execution_count": null,
      "outputs": []
    },
    {
      "cell_type": "code",
      "source": [
        "# 모델링\n",
        "model = tf.keras.models.Sequential([\n",
        "                                    tf.keras.layers.Input(4), # 입력층\n",
        "                                    tf.keras.layers.Dense(10, activation='relu'), # 은닉층\n",
        "                                    tf.keras.layers.Dense(3, activation='softmax')  # 출력층\n",
        "])"
      ],
      "metadata": {
        "id": "XhqApTHHzqYN"
      },
      "execution_count": 35,
      "outputs": []
    },
    {
      "cell_type": "code",
      "source": [
        "# 모델 학습 방법\n",
        "model.compile(optimizer=tf.keras.optimizers.Adam(learning_rate=0.01), loss=\"categorical_crossentropy\", metrics=[\"accuracy\"])"
      ],
      "metadata": {
        "id": "fPfEyzMQzqVS"
      },
      "execution_count": 36,
      "outputs": []
    },
    {
      "cell_type": "code",
      "source": [
        "# 모델 학습\n",
        "model.fit(train_X, train_Y, epochs=30, validation_data=(test_X, test_Y))"
      ],
      "metadata": {
        "id": "B24CFcYrzqSa"
      },
      "execution_count": null,
      "outputs": []
    },
    {
      "cell_type": "code",
      "source": [
        "# 결과 추론\n",
        "test = np.array([[6, 3, 5, 2]])\n",
        "pred = model.predict(test)\n",
        "\n",
        "print(pred)\n",
        "print(np.argmax(pred))"
      ],
      "metadata": {
        "id": "c-VFg6JSzqL2"
      },
      "execution_count": null,
      "outputs": []
    }
  ]
}