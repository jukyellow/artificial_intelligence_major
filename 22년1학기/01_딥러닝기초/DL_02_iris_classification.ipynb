{
  "nbformat": 4,
  "nbformat_minor": 0,
  "metadata": {
    "colab": {
      "name": "DL_02_iris_classification.ipynb",
      "provenance": []
    },
    "kernelspec": {
      "name": "python3",
      "display_name": "Python 3"
    },
    "language_info": {
      "name": "python"
    }
  },
  "cells": [
    {
      "cell_type": "code",
      "execution_count": 1,
      "metadata": {
        "id": "yl9YpI3UuHus"
      },
      "outputs": [],
      "source": [
        "# 데이터 로드 (붓꽃 데이터)\n",
        "from sklearn.datasets import load_iris\n",
        "iris = load_iris()"
      ]
    },
    {
      "cell_type": "code",
      "source": [
        "X = iris.data # iris의 입력값 (꽃잎과 꽃받침의 길이와 넓이)\n",
        "Y = iris.target # iris의 출력값 (종, versicolor, setosa, virginica)\n",
        "\n",
        "type(X) # type() 데이터의 타입 출력 , numpy 데이터라고 출력 됨"
      ],
      "metadata": {
        "id": "uOjgk7jLuwUd",
        "colab": {
          "base_uri": "https://localhost:8080/"
        },
        "outputId": "08c1203e-da2c-4b1e-eb41-b6edfb6d27a9"
      },
      "execution_count": 2,
      "outputs": [
        {
          "output_type": "execute_result",
          "data": {
            "text/plain": [
              "numpy.ndarray"
            ]
          },
          "metadata": {},
          "execution_count": 2
        }
      ]
    },
    {
      "cell_type": "code",
      "source": [
        "import numpy as np  # numpy 라이브러리를 사용할건데 그 이름 np라고 하겠다\n",
        "\n",
        "np.shape(X) # 데이터 X의 shape(몇 행 몇 열인지?)을 출력 "
      ],
      "metadata": {
        "id": "i6x9m4PnuwR5",
        "colab": {
          "base_uri": "https://localhost:8080/"
        },
        "outputId": "36db492b-1e6c-4ec9-b45d-5e72d5b22b22"
      },
      "execution_count": 3,
      "outputs": [
        {
          "output_type": "execute_result",
          "data": {
            "text/plain": [
              "(150, 4)"
            ]
          },
          "metadata": {},
          "execution_count": 3
        }
      ]
    },
    {
      "cell_type": "code",
      "source": [
        "X[:5] # X의 앞에서 5개의 데이터 출력"
      ],
      "metadata": {
        "id": "dPJgWPYluwOl",
        "colab": {
          "base_uri": "https://localhost:8080/"
        },
        "outputId": "061ec714-73ff-49ac-962b-3daa2eb66630"
      },
      "execution_count": 4,
      "outputs": [
        {
          "output_type": "execute_result",
          "data": {
            "text/plain": [
              "array([[5.1, 3.5, 1.4, 0.2],\n",
              "       [4.9, 3. , 1.4, 0.2],\n",
              "       [4.7, 3.2, 1.3, 0.2],\n",
              "       [4.6, 3.1, 1.5, 0.2],\n",
              "       [5. , 3.6, 1.4, 0.2]])"
            ]
          },
          "metadata": {},
          "execution_count": 4
        }
      ]
    },
    {
      "cell_type": "code",
      "source": [
        "Y"
      ],
      "metadata": {
        "id": "Zbf4e36juwLW",
        "colab": {
          "base_uri": "https://localhost:8080/"
        },
        "outputId": "5e8dce9a-96d7-4cb9-9153-9ccc9424fffd"
      },
      "execution_count": 5,
      "outputs": [
        {
          "output_type": "execute_result",
          "data": {
            "text/plain": [
              "array([0, 0, 0, 0, 0, 0, 0, 0, 0, 0, 0, 0, 0, 0, 0, 0, 0, 0, 0, 0, 0, 0,\n",
              "       0, 0, 0, 0, 0, 0, 0, 0, 0, 0, 0, 0, 0, 0, 0, 0, 0, 0, 0, 0, 0, 0,\n",
              "       0, 0, 0, 0, 0, 0, 1, 1, 1, 1, 1, 1, 1, 1, 1, 1, 1, 1, 1, 1, 1, 1,\n",
              "       1, 1, 1, 1, 1, 1, 1, 1, 1, 1, 1, 1, 1, 1, 1, 1, 1, 1, 1, 1, 1, 1,\n",
              "       1, 1, 1, 1, 1, 1, 1, 1, 1, 1, 1, 1, 2, 2, 2, 2, 2, 2, 2, 2, 2, 2,\n",
              "       2, 2, 2, 2, 2, 2, 2, 2, 2, 2, 2, 2, 2, 2, 2, 2, 2, 2, 2, 2, 2, 2,\n",
              "       2, 2, 2, 2, 2, 2, 2, 2, 2, 2, 2, 2, 2, 2, 2, 2, 2, 2])"
            ]
          },
          "metadata": {},
          "execution_count": 5
        }
      ]
    },
    {
      "cell_type": "code",
      "source": [
        "import tensorflow as tf\n",
        "\n",
        "#원 핫 인코딩 to_categorical(출력값)\n",
        "Y = tf.keras.utils.to_categorical(Y)\n",
        "Y[:5]"
      ],
      "metadata": {
        "id": "K28neEquuwH1",
        "colab": {
          "base_uri": "https://localhost:8080/"
        },
        "outputId": "0a85a403-0c50-4019-9e93-b076ed28c0a9"
      },
      "execution_count": 6,
      "outputs": [
        {
          "output_type": "execute_result",
          "data": {
            "text/plain": [
              "array([[1., 0., 0.],\n",
              "       [1., 0., 0.],\n",
              "       [1., 0., 0.],\n",
              "       [1., 0., 0.],\n",
              "       [1., 0., 0.]], dtype=float32)"
            ]
          },
          "metadata": {},
          "execution_count": 6
        }
      ]
    },
    {
      "cell_type": "code",
      "source": [
        "from sklearn.model_selection import train_test_split\n",
        "\n",
        "# 데이터 분할 (입력값 X, 출력값 Y) -> (학습용 입력값 X, 테스트용 입력값 X, 학습용 출력값 Y, 테스트용 출력값 Y)\n",
        "train_X, test_X, train_Y, test_Y = train_test_split(X, Y, test_size=0.2) # 학습용4 : 테스트용1로 분할"
      ],
      "metadata": {
        "id": "Ql2m5ZIquwEb"
      },
      "execution_count": 8,
      "outputs": []
    },
    {
      "cell_type": "code",
      "source": [
        "np.shape(train_X)"
      ],
      "metadata": {
        "id": "sL7w5TPpuwBV",
        "colab": {
          "base_uri": "https://localhost:8080/"
        },
        "outputId": "973cc44a-03ed-44e7-ef98-4c08a2d033e2"
      },
      "execution_count": 9,
      "outputs": [
        {
          "output_type": "execute_result",
          "data": {
            "text/plain": [
              "(120, 4)"
            ]
          },
          "metadata": {},
          "execution_count": 9
        }
      ]
    },
    {
      "cell_type": "code",
      "source": [
        "np.shape(train_Y)"
      ],
      "metadata": {
        "id": "ihRH5TxBzqbE",
        "colab": {
          "base_uri": "https://localhost:8080/"
        },
        "outputId": "e1552299-34c5-40b3-e174-2fe354bbba46"
      },
      "execution_count": 10,
      "outputs": [
        {
          "output_type": "execute_result",
          "data": {
            "text/plain": [
              "(120, 3)"
            ]
          },
          "metadata": {},
          "execution_count": 10
        }
      ]
    },
    {
      "cell_type": "code",
      "source": [
        "# 모델링\n",
        "# 뉴럴네트워크의 레이어를 순차적으로  쌓아 나감\n",
        "# 입력층, 은닉층, 출력층을 순차적으로\n",
        "# 4개의 입력값, 3개의 출력값 <-- 데이터 종속적\n",
        "# 은닉층은 우리 마음대로 구성할 수 있는데, 이번에는 10개의 뉴런을 갖고 있는 레이어 1개를 만듬\n",
        "model = tf.keras.models.Sequential([\n",
        "                                    tf.keras.layers.Input(4),\n",
        "                                    tf.keras.layers.Dense(10, activation='relu'),\n",
        "                                    tf.keras.layers.Dense(3, activation='softmax') # softmax는 원핫인코딩된 출력값과 페어로 사용\n",
        "])"
      ],
      "metadata": {
        "id": "XhqApTHHzqYN"
      },
      "execution_count": 11,
      "outputs": []
    },
    {
      "cell_type": "code",
      "source": [
        "# 모델 학습 방법 (compile)\n",
        "# optimizer : 어떻게 뉴럴네트워크의 Weight와 bias를 학습할 것인지\n",
        "# learning_rate : 얼만큼 값(weight, bias)들을 학습시킬 것인지\n",
        "# loss : 오차를 측정하는 방법\n",
        "# metric : 학습하는 동안 모델을 평가하는 방법\n",
        "\n",
        "model.compile(optimizer=tf.keras.optimizers.Adam(learning_rate=0.01), loss=\"categorical_crossentropy\", metrics=[\"accuracy\"])"
      ],
      "metadata": {
        "id": "fPfEyzMQzqVS"
      },
      "execution_count": 12,
      "outputs": []
    },
    {
      "cell_type": "code",
      "source": [
        "# 모델 학습 시작 (fit)\n",
        "# 학습용 입력값(train_X), 학습용 출력값(train_Y)\n",
        "# epochs : 얼만큼 데이터를 반복시켜서 학습 할 것인지 ex) 120개의 데이터 X 30 = 3600개의 데이터로 학습\n",
        "# validation_data : 학습 중에 정확도를 측정하는 데이터\n",
        "\n",
        "model.fit(train_X, train_Y, epochs=30, validation_data=(test_X, test_Y))"
      ],
      "metadata": {
        "id": "B24CFcYrzqSa"
      },
      "execution_count": null,
      "outputs": []
    },
    {
      "cell_type": "code",
      "source": [
        "# 모델 테스트\n",
        "# 0번째 꽃 종류의 실제 데이터 : [5.1, 3.5, 1.4, 0.2], [4.9, 3. , 1.4, 0.2]\n",
        "# 테스트 데이터 [5, 3.4, 1.3, 0.15]\n",
        "test = np.array([[5, 3.4, 1.3, 0.15]]) # numpy array 형태로 입력값을 정의\n",
        "\n",
        "pred = model.predict(test)\n",
        "\n",
        "print(pred) # 3개의 출력층 값이 출력\n",
        "print(np.argmax(pred)) # 3개의 출력값 중 가장 큰 값의 번째를 출력"
      ],
      "metadata": {
        "id": "c-VFg6JSzqL2",
        "colab": {
          "base_uri": "https://localhost:8080/"
        },
        "outputId": "088873bb-3cd1-4a9b-cc1b-8775afef5a62"
      },
      "execution_count": 14,
      "outputs": [
        {
          "output_type": "stream",
          "name": "stdout",
          "text": [
            "[[9.6784526e-01 3.2117516e-02 3.7301801e-05]]\n",
            "0\n"
          ]
        }
      ]
    }
  ]
}